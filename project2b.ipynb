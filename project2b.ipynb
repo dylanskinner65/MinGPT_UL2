{
 "cells": [
  {
   "cell_type": "code",
   "execution_count": 1,
   "metadata": {},
   "outputs": [],
   "source": [
    "import torch\n",
    "from transformers import GPT2Tokenizer, GPT2LMHeadModel\n",
    "from mingpt.model import GPT\n",
    "from mingpt.utils import set_seed\n",
    "from datasets import load_dataset\n",
    "import torch\n",
    "import matplotlib.pyplot as plt\n",
    "from torch.utils.data import Dataset, DataLoader\n",
    "from datasets import load_dataset\n",
    "import numpy as np\n",
    "from scipy.stats import norm\n",
    "set_seed(3407)"
   ]
  },
  {
   "cell_type": "code",
   "execution_count": 2,
   "metadata": {},
   "outputs": [
    {
     "data": {
      "text/plain": [
       "PreTrainedTokenizer(name_or_path='gpt2', vocab_size=50257, model_max_len=1024, is_fast=False, padding_side='right', truncation_side='right', special_tokens={'bos_token': AddedToken(\"<|endoftext|>\", rstrip=False, lstrip=False, single_word=False, normalized=True), 'eos_token': AddedToken(\"<|endoftext|>\", rstrip=False, lstrip=False, single_word=False, normalized=True), 'unk_token': AddedToken(\"<|endoftext|>\", rstrip=False, lstrip=False, single_word=False, normalized=True)})"
      ]
     },
     "execution_count": 2,
     "metadata": {},
     "output_type": "execute_result"
    }
   ],
   "source": [
    "# Load in UL2 tokenizer to see what's going on\n",
    "from transformers import AutoTokenizer, GPT2Tokenizer\n",
    "\n",
    "tokenizer = GPT2Tokenizer.from_pretrained(\"gpt2\")\n",
    "\n",
    "new_tokens = [f'<new_id_{i}>' for i in range(200)]\n",
    "tokenizer.add_tokens(new_tokens)\n",
    "tokenizer.add_tokens(['[S2S]', '[NLU]', '[NLG]'])\n",
    "\n",
    "tokenizer"
   ]
  },
  {
   "cell_type": "code",
   "execution_count": 7,
   "metadata": {},
   "outputs": [
    {
     "name": "stderr",
     "output_type": "stream",
     "text": [
      "Found cached dataset red_pajama-data-1_t-sample (/Users/dylanskinner/Desktop/CS 674 Projects/MinGPT_UL2/datasets/togethercomputer___red_pajama-data-1_t-sample/plain_text/1.0.0/6ea3bc8ec2e84ec6d2df1930942e9028ace8c5b9d9143823cf911c50bbd92039)\n"
     ]
    },
    {
     "data": {
      "application/vnd.jupyter.widget-view+json": {
       "model_id": "77e8c309de41473dbdc13a59fb24b20f",
       "version_major": 2,
       "version_minor": 0
      },
      "text/plain": [
       "  0%|          | 0/1 [00:00<?, ?it/s]"
      ]
     },
     "metadata": {},
     "output_type": "display_data"
    }
   ],
   "source": [
    "dataset = load_dataset(\"togethercomputer/RedPajama-Data-1T-Sample\", 'plain_text', cache_dir='datasets')\n",
    "dataset = dataset['train']\n",
    "\n",
    "# Custom dataset class for the Red Pajama dataset\n",
    "class RedPajamaDataset(Dataset):\n",
    "    def __init__(self, data, max_length=1024, ul2_switch=False):\n",
    "        self.data = data\n",
    "        self.tokenizer = GPT2Tokenizer.from_pretrained('gpt2')\n",
    "        self.tokenizer.add_tokens([f'new_id_{i}' for i in range(200)])\n",
    "        self.tokenizer.add_tokens(['[S2S]', '[NLU]', '[NLG]'])\n",
    "        self.tokenizer.pad_token_id = 50256\n",
    "        self.max_length = max_length - 1\n",
    "        self.vocab_size = len(self.tokenizer)\n",
    "        self.token_dict = {'s': ['[S2S]', self._s_denoising], 'r': ['[NLU]', self._r_denoising], 'x': ['[NLG]', self._x_denoising]}\n",
    "        self.ul2_switch = ul2_switch\n",
    "\n",
    "    def __len__(self):\n",
    "        return len(self.data)\n",
    "\n",
    "    def __getitem__(self, idx):\n",
    "        text = self.data[idx]['text']\n",
    "\n",
    "        if self.ul2_switch:\n",
    "            # Get the token to prepend and function to use.\n",
    "            begin_id, func = self.token_dict[np.random.choice(['s', 'r', 'x'], size=1, p=[0.5, 0.25, 0.25])[0]]\n",
    "\n",
    "            # Prepend token to string and tokenize\n",
    "            text = begin_id + ' ' + text\n",
    "            ids = self.tokenizer.encode(text, truncation=True, max_length=self.max_length, return_tensors='pt', add_special_tokens=True, padding=True)\n",
    "\n",
    "            # Return the tokens\n",
    "            return func(ids, self.tokenizer)\n",
    "        \n",
    "        elif not self.ul2_switch:\n",
    "            # Tokenize the text\n",
    "            tokens = self.tokenizer.encode(text, add_special_tokens=True, max_length=self.max_length, truncation=True, return_tensors='pt', padding=True)\n",
    "            \n",
    "            # Split the tokens into chunks of max_length\n",
    "            # Shift the tokens to get targets (excluding the [CLS] token)\n",
    "            target_tokens = tokens[:, 1:].clone()  # Exclude the [CLS] token\n",
    "            tokens = tokens[:, :-1]  # Exclude the last token to match the shifted targets\n",
    "            return tokens, target_tokens\n",
    "\n",
    "    # Helper functions! These will implement the UL2 tokenization.\n",
    "    def _r_denoising(self, ids, tokenizer, corruption_pct=0.15, span_length=np.arange(2, 6)):\n",
    "        # Calculate the chance of corruption based on the corruption percentage,\n",
    "        # mean span length, and the maximum span length\n",
    "        chance = (corruption_pct / np.mean(span_length)) * (1 + np.max(span_length) / ids.shape[1])\n",
    "        \n",
    "        # Variable to store the old tokens (before corruption)\n",
    "        old_toks = None\n",
    "\n",
    "        # Variables for tracking the number of steps to skip and tokens used\n",
    "        steps_to_skip = 0\n",
    "        tokens_used = 0\n",
    "\n",
    "        ids_shape = ids.shape[1]\n",
    "        # Iterate through the tokens in the input sequence\n",
    "        for i in range(1, ids_shape):\n",
    "            # Skip steps if needed (due to recent corruption)\n",
    "            if steps_to_skip > 0:\n",
    "                steps_to_skip -= 1\n",
    "                continue\n",
    "\n",
    "            # Randomly decide whether to corrupt the current token\n",
    "            rnd = np.random.random()\n",
    "            if rnd < chance:\n",
    "                # Get the token used for masking (corruption)\n",
    "                mask_token = tokenizer.convert_tokens_to_ids(new_tokens[tokens_used])\n",
    "                tokens_used += 1\n",
    "                \n",
    "                # Randomly choose a span length for corruption\n",
    "                span = np.random.choice(span_length)\n",
    "\n",
    "                # Update old_toks and ids with the corrupted span\n",
    "                if old_toks is None:\n",
    "                    old_toks = torch.tensor([[mask_token]])  # Initialize old_toks with the first mask_token\n",
    "                    old_toks = torch.cat((old_toks, ids[:, i:i + span]), dim=1)  # Add the corrupted span to old_toks\n",
    "                    ids = torch.cat((ids[:, :i], torch.tensor([[mask_token]]), ids[:, i + span:]), dim=1)  # Mask the corrupted span in ids\n",
    "\n",
    "                    steps_to_skip = span\n",
    "                else:\n",
    "                    old_toks = torch.cat((old_toks, torch.tensor([[mask_token]]), ids[:, i:i + span]), dim=1)  # Add the corrupted span to old_toks\n",
    "                    ids = torch.cat((ids[:, :i], torch.tensor([[mask_token]]), ids[:, i + span:]), dim=1)  # Mask the corrupted span in ids\n",
    "\n",
    "                    # Update steps_to_skip to avoid overlapping corruption\n",
    "                    steps_to_skip = span\n",
    "\n",
    "        # Pad ids and old_toks to match the desired maximum length (R, X)\n",
    "        ids = torch.cat((ids, torch.tensor([[tokenizer.eos_token_id] * (self.max_length - ids.shape[1])])), dim=1)\n",
    "        old_toks = torch.cat((old_toks, torch.tensor([[tokenizer.eos_token_id] * (self.max_length - old_toks.shape[1])])), dim=1)\n",
    "\n",
    "        return ids, old_toks\n",
    "\n",
    "\n",
    "\n",
    "    def _s_denoising(self, ids, tokenizer):\n",
    "        # Get the length of our input\n",
    "        len_ids = ids.shape[1]\n",
    "\n",
    "        # Build Gaussian distribution of probabilities for each token\n",
    "        vals = np.linspace(-2, 2, len_ids)\n",
    "        p = norm.pdf(vals, loc=0, scale=1)\n",
    "\n",
    "        # Normalize the probabilities and get the index to remove\n",
    "        remove_index = np.random.choice(np.arange(len_ids // 2 - 15, len_ids // 2 + 15))\n",
    "\n",
    "        # Get the token we are using for this space\n",
    "        mask_token = tokenizer.convert_tokens_to_ids(new_tokens[0])\n",
    "\n",
    "        # Get the tokens we are removing\n",
    "        old_toks = torch.cat((torch.tensor([[mask_token]]), ids[:, remove_index:].clone()), dim=1)\n",
    "\n",
    "        # Mask the tokens\n",
    "        ids = ids[:, :remove_index + 1].clone()\n",
    "        ids[:, -1] = mask_token\n",
    "\n",
    "        # Pad ids and old_toks to match the desired maximum length (S)\n",
    "        ids = torch.cat((ids, torch.tensor([[tokenizer.eos_token_id] * (self.max_length - ids.shape[1])])), dim=1)\n",
    "        old_toks = torch.cat((old_toks, torch.tensor([[tokenizer.eos_token_id] * (self.max_length - old_toks.shape[1])])), dim=1)\n",
    "\n",
    "        return ids, old_toks\n",
    "\n",
    "\n",
    "\n",
    "        \n",
    "    def _x_denoising(self, ids, tokenizer, corruption_pct=0.50, span_length=np.arange(2,6)):\n",
    "        return self._r_denoising(ids, tokenizer, corruption_pct, span_length)\n",
    "    \n",
    "\n",
    "# Create an instance of the custom dataset\n",
    "red_pajama_dataset_F = RedPajamaDataset(dataset)\n",
    "red_pajama_dataset_T = RedPajamaDataset(dataset, ul2_switch=True)"
   ]
  },
  {
   "cell_type": "code",
   "execution_count": 8,
   "metadata": {},
   "outputs": [
    {
     "name": "stdout",
     "output_type": "stream",
     "text": [
      "number of parameters: 2.56M\n",
      "number of parameters: 2.56M\n"
     ]
    }
   ],
   "source": [
    "# create a GPT instance\n",
    "from mingpt.model import GPT\n",
    "import os\n",
    "\n",
    "checkpoint_dir = 'red_pajama'\n",
    "dir_path = f'./checkpoints/{checkpoint_dir}'\n",
    "\n",
    "if not os.path.exists(dir_path):\n",
    "    # If the directory doesn't exist, create it\n",
    "    os.makedirs(dir_path)\n",
    "    checkpoints = os.listdir(dir_path)\n",
    "else:\n",
    "    checkpoints = os.listdir(dir_path)\n",
    "\n",
    "checkpoints.sort()\n",
    "\n",
    "\n",
    "\n",
    "model_config = GPT.get_default_config()\n",
    "model_config.model_type = 'gpt-nano'\n",
    "model_config.vocab_size = red_pajama_dataset_T.vocab_size\n",
    "model_config.block_size = red_pajama_dataset_T.max_length\n",
    "# model_config.checkpoint = f'checkpoints/{checkpoint_dir}/' + checkpoints[-1] if checkpoints else None\n",
    "model_config.checkpoint = None\n",
    "model_config.use_ul2 = True\n",
    "model = GPT(model_config)\n",
    "\n",
    "model_config = GPT.get_default_config()\n",
    "model_config.model_type = 'gpt-nano'\n",
    "model_config.vocab_size = red_pajama_dataset_F.vocab_size\n",
    "model_config.block_size = red_pajama_dataset_F.max_length\n",
    "# model_config.checkpoint = f'checkpoints/{checkpoint_dir}/' + checkpoints[-1] if checkpoints else None\n",
    "model_config.checkpoint = None\n",
    "model_config.use_ul2 = False\n",
    "model2 = GPT(model_config)"
   ]
  },
  {
   "cell_type": "code",
   "execution_count": 9,
   "metadata": {},
   "outputs": [
    {
     "name": "stdout",
     "output_type": "stream",
     "text": [
      "running on device cpu\n",
      "running on device cpu\n"
     ]
    }
   ],
   "source": [
    "# create a Trainer object\n",
    "from mingpt.trainer import Trainer\n",
    "iters = 500\n",
    "\n",
    "train_config = Trainer.get_default_config()\n",
    "train_config.learning_rate = 5e-4 # the model we're using is so small that we can go a bit faster\n",
    "train_config.max_iters = iters + model.iter_num if model_config.checkpoint else iters  # This is a change\n",
    "train_config.num_workers = 0\n",
    "train_config.checkpoint_iters = 100     # This is a change\n",
    "train_config.batch_size = 1\n",
    "train_config.checkpoint_name = f'{checkpoint_dir}/checkpoint_ul2'  # This is a change.\n",
    "trainer = Trainer(train_config, model, red_pajama_dataset_T)\n",
    "\n",
    "train_config = Trainer.get_default_config()\n",
    "train_config.learning_rate = 5e-4 # the model we're using is so small that we can go a bit faster\n",
    "train_config.max_iters = iters + model.iter_num if model_config.checkpoint else iters  # This is a change\n",
    "train_config.num_workers = 0\n",
    "train_config.checkpoint_iters = 100     # This is a change\n",
    "train_config.batch_size = 1\n",
    "train_config.checkpoint_name = f'{checkpoint_dir}/checkpoint_break'  # This is a change.\n",
    "trainer2 = Trainer(train_config, model2, red_pajama_dataset_F)"
   ]
  },
  {
   "cell_type": "code",
   "execution_count": 10,
   "metadata": {},
   "outputs": [
    {
     "name": "stdout",
     "output_type": "stream",
     "text": [
      "iter_dt 0.00ms; iter 0: train loss 10.69954\n",
      "iter_dt 971.65ms; iter 100: train loss 5.62758\n",
      "iter_dt 501.43ms; iter 200: train loss 1.12558\n",
      "iter_dt 481.43ms; iter 300: train loss 3.26710\n",
      "iter_dt 506.68ms; iter 400: train loss 1.15159\n",
      "iter_dt 0.00ms; iter 0: train loss 10.83819\n",
      "iter_dt 178.93ms; iter 100: train loss 9.08965\n",
      "iter_dt 941.06ms; iter 200: train loss 8.23680\n",
      "iter_dt 32.46ms; iter 300: train loss 9.81027\n",
      "iter_dt 481.70ms; iter 400: train loss 7.58708\n"
     ]
    },
    {
     "data": {
      "image/png": "[encoded data removed]",
      "text/plain": [
       "<Figure size 640x480 with 1 Axes>"
      ]
     },
     "metadata": {},
     "output_type": "display_data"
    }
   ],
   "source": [
    "def batch_end_callback(trainer):\n",
    "    if trainer.iter_num % 100 == 0:\n",
    "        print(f\"iter_dt {trainer.iter_dt * 1000:.2f}ms; iter {trainer.iter_num}: train loss {trainer.loss.item():.5f}\")\n",
    "trainer.set_callback('on_batch_end', batch_end_callback)\n",
    "\n",
    "trainer.run()\n",
    "\n",
    "# Plot the loss\n",
    "losses = trainer.curr_loss\n",
    "x = 10\n",
    "new_losses = np.mean(np.array(losses).reshape(-1, x), axis=1)\n",
    "\n",
    "plt.plot(np.arange(len(new_losses)), new_losses, label='UL2')\n",
    "\n",
    "def batch_end_callback(trainer):\n",
    "    if trainer2.iter_num % 100 == 0:\n",
    "        print(f\"iter_dt {trainer2.iter_dt * 1000:.2f}ms; iter {trainer2.iter_num}: train loss {trainer2.loss.item():.5f}\")\n",
    "trainer2.set_callback('on_batch_end', batch_end_callback)\n",
    "\n",
    "trainer2.run()\n",
    "\n",
    "# Plot the loss\n",
    "losses = trainer2.curr_loss\n",
    "x = 10\n",
    "new_losses = np.mean(np.array(losses).reshape(-1, x), axis=1)\n",
    "plt.plot(np.arange(len(new_losses)), new_losses, label='Regular')\n",
    "plt.title('Training of MinGPT on The Pile')\n",
    "plt.xlabel('Iterations')\n",
    "plt.ylabel('Loss')\n",
    "plt.legend()\n",
    "plt.show()"
   ]
  }
 ],
 "metadata": {
  "kernelspec": {
   "display_name": "acme1",
   "language": "python",
   "name": "python3"
  },
  "language_info": {
   "codemirror_mode": {
    "name": "ipython",
    "version": 3
   },
   "file_extension": ".py",
   "mimetype": "text/x-python",
   "name": "python",
   "nbconvert_exporter": "python",
   "pygments_lexer": "ipython3",
   "version": "3.7.16"
  }
 },
 "nbformat": 4,
 "nbformat_minor": 2
}
