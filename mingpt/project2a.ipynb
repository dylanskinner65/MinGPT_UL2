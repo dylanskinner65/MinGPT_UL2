{
 "cells": [
  {
   "cell_type": "markdown",
   "metadata": {},
   "source": [
    "Shows how one can generate text given a prompt and some hyperparameters, using either minGPT or huggingface/transformers"
   ]
  },
  {
   "cell_type": "code",
   "execution_count": 1,
   "metadata": {},
   "outputs": [],
   "source": [
    "import torch\n",
    "from transformers import GPT2Tokenizer, GPT2LMHeadModel\n",
    "from mingpt.model import GPT\n",
    "from mingpt.utils import set_seed\n",
    "from mingpt.bpe import BPETokenizer\n",
    "set_seed(3407)"
   ]
  },
  {
   "cell_type": "code",
   "execution_count": 2,
   "metadata": {},
   "outputs": [],
   "source": [
    "use_mingpt = True # use minGPT or huggingface/transformers model?\n",
    "model_type = 'gpt2'\n",
    "device = 'cpu'"
   ]
  },
  {
   "cell_type": "code",
   "execution_count": 3,
   "metadata": {},
   "outputs": [
    {
     "name": "stdout",
     "output_type": "stream",
     "text": [
      "number of parameters: 124.44M\n"
     ]
    }
   ],
   "source": [
    "if use_mingpt:\n",
    "    model = GPT.from_pretrained(model_type)\n",
    "else:\n",
    "    model = GPT2LMHeadModel.from_pretrained(model_type)\n",
    "    model.config.pad_token_id = model.config.eos_token_id # suppress a warning\n",
    "\n",
    "# ship model to device and set to eval mode\n",
    "model.to(device)\n",
    "model.eval();"
   ]
  },
  {
   "cell_type": "code",
   "execution_count": 4,
   "metadata": {},
   "outputs": [],
   "source": [
    "\n",
    "def generate(prompt='', num_samples=10, steps=20, do_sample=True):\n",
    "        \n",
    "    # tokenize the input prompt into integer input sequence\n",
    "    tokenizer = GPT2Tokenizer.from_pretrained(model_type)\n",
    "    if prompt == '': \n",
    "        # to create unconditional samples...\n",
    "        # huggingface/transformers tokenizer special cases these strings\n",
    "        prompt = '<|endoftext|>'\n",
    "    encoded_input = tokenizer(prompt, return_tensors='pt').to(device)\n",
    "    x = encoded_input['input_ids']\n",
    "    \n",
    "    # we'll process all desired num_samples in a batch, so expand out the batch dim\n",
    "    x = x.expand(num_samples, -1)\n",
    "\n",
    "    # forward the model `steps` times to get samples, in a batch\n",
    "    y = model.generate(x, max_new_tokens=steps, do_sample=do_sample, top_k=40)\n",
    "    \n",
    "    for i in range(num_samples):\n",
    "        out = tokenizer.decode(y[i].cpu().squeeze())\n",
    "        print('-'*80)\n",
    "        print(out)\n",
    "        "
   ]
  },
  {
   "cell_type": "code",
   "execution_count": 5,
   "metadata": {},
   "outputs": [
    {
     "name": "stdout",
     "output_type": "stream",
     "text": [
      "--------------------------------------------------------------------------------\n",
      "Dylan Skinner is the author of \"The Biggest Bad Boy in America\": A History of Black America at the University of\n",
      "--------------------------------------------------------------------------------\n",
      "Dylan Skinner is the President of Kratom Awareness Month, a national coalition of community health advocates and activists who call for more\n",
      "--------------------------------------------------------------------------------\n",
      "Dylan Skinner is the author of \"Dylan's War: What I Learned as a Boy a Slave\" and other books\n",
      "--------------------------------------------------------------------------------\n",
      "Dylan Skinner is the co-founder of the Internet Archive, and currently serves as a director at Creative Cloud Group.<|endoftext|>\n",
      "--------------------------------------------------------------------------------\n",
      "Dylan Skinner is the CEO of V.U.\n",
      "\n",
      "He recently shared a series of questions in which he spoke with\n",
      "--------------------------------------------------------------------------------\n",
      "Dylan Skinner is the latest to say that a similar law could be in place under the new law for the same reason he\n",
      "--------------------------------------------------------------------------------\n",
      "Dylan Skinner is the leader of the New Zealand branch of the U.S. Holocaust Memorial Museum.<|endoftext|>The government has\n",
      "--------------------------------------------------------------------------------\n",
      "Dylan Skinner is the former U.S. Secretary of State under George W. Bush, and the former U.S\n",
      "--------------------------------------------------------------------------------\n",
      "Dylan Skinner is the author of \"Losing Our Voices: My Story of Growing Up in the Democratic Party,\" which can\n",
      "--------------------------------------------------------------------------------\n",
      "Dylan Skinner is the chairman of the Senate committee on health, human services, public safety and public education. He is a\n"
     ]
    }
   ],
   "source": [
    "generate(prompt='Dylan Skinner is the', num_samples=10, steps=20)"
   ]
  }
 ],
 "metadata": {
  "kernelspec": {
   "display_name": "Python 3.10.4 64-bit",
   "language": "python",
   "name": "python3"
  },
  "language_info": {
   "codemirror_mode": {
    "name": "ipython",
    "version": 3
   },
   "file_extension": ".py",
   "mimetype": "text/x-python",
   "name": "python",
   "nbconvert_exporter": "python",
   "pygments_lexer": "ipython3",
   "version": "3.7.16"
  },
  "orig_nbformat": 4,
  "vscode": {
   "interpreter": {
    "hash": "3ad933181bd8a04b432d3370b9dc3b0662ad032c4dfaa4e4f1596c548f763858"
   }
  }
 },
 "nbformat": 4,
 "nbformat_minor": 2
}
