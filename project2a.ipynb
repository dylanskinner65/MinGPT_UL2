{
 "cells": [
  {
   "cell_type": "markdown",
   "metadata": {},
   "source": [
    "Shows how one can generate text given a prompt and some hyperparameters, using either minGPT or huggingface/transformers"
   ]
  },
  {
   "cell_type": "code",
   "execution_count": 1,
   "metadata": {},
   "outputs": [],
   "source": [
    "import torch\n",
    "from transformers import GPT2Tokenizer, GPT2LMHeadModel\n",
    "from mingpt.model import GPT\n",
    "from mingpt.utils import set_seed\n",
    "from datasets import load_dataset\n",
    "import torch\n",
    "import matplotlib.pyplot as plt\n",
    "from torch.utils.data import Dataset, DataLoader\n",
    "from datasets import load_dataset\n",
    "set_seed(3407)"
   ]
  },
  {
   "cell_type": "code",
   "execution_count": 2,
   "metadata": {},
   "outputs": [
    {
     "name": "stderr",
     "output_type": "stream",
     "text": [
      "Found cached dataset red_pajama-data-1_t-sample (/Users/dylanskinner/Desktop/CS 674 Projects/MinGPT_UL2/datasets/togethercomputer___red_pajama-data-1_t-sample/plain_text/1.0.0/6ea3bc8ec2e84ec6d2df1930942e9028ace8c5b9d9143823cf911c50bbd92039)\n"
     ]
    },
    {
     "data": {
      "application/vnd.jupyter.widget-view+json": {
       "model_id": "4620cfbeeff54f9083484ee35220cc0e",
       "version_major": 2,
       "version_minor": 0
      },
      "text/plain": [
       "  0%|          | 0/1 [00:00<?, ?it/s]"
      ]
     },
     "metadata": {},
     "output_type": "display_data"
    }
   ],
   "source": [
    "# Load the dataset\n",
    "dataset = load_dataset(\"togethercomputer/RedPajama-Data-1T-Sample\", 'plain_text', cache_dir='datasets')\n",
    "dataset = dataset['train']"
   ]
  },
  {
   "cell_type": "code",
   "execution_count": 3,
   "metadata": {},
   "outputs": [],
   "source": [
    "# Custom dataset class for the Red Pajama dataset\n",
    "class RedPajamaDataset(Dataset):\n",
    "    def __init__(self, data, max_length=1024):\n",
    "        self.data = data\n",
    "        self.tokenizer = GPT2Tokenizer.from_pretrained('gpt2')\n",
    "        self.tokenizer.pad_token_id = 50256\n",
    "        self.max_length = max_length\n",
    "        self.vocab_size = self.tokenizer.vocab_size\n",
    "\n",
    "    def __len__(self):\n",
    "        return len(self.data)\n",
    "\n",
    "    def __getitem__(self, idx):\n",
    "        text = self.data[idx]['text']\n",
    "        # Tokenize the text\n",
    "        tokens = self.tokenizer.encode(text, add_special_tokens=True, max_length=self.max_length, truncation=True, return_tensors='pt', padding=True)\n",
    "        # Split the tokens into chunks of max_length\n",
    "        # Shift the tokens to get targets (excluding the [CLS] token)\n",
    "        target_tokens = tokens[:, 1:].clone()  # Exclude the [CLS] token\n",
    "        tokens = tokens[:, :-1]  # Exclude the last token to match the shifted targets\n",
    "        return tokens, target_tokens\n",
    "    \n",
    "\n",
    "# Create an instance of the custom dataset\n",
    "red_pajama_dataset = RedPajamaDataset(dataset)\n",
    "# print(red_pajama_dataset[0].device)"
   ]
  },
  {
   "cell_type": "code",
   "execution_count": 8,
   "metadata": {},
   "outputs": [
    {
     "name": "stdout",
     "output_type": "stream",
     "text": [
      "number of parameters: 2.55M\n"
     ]
    }
   ],
   "source": [
    "# create a GPT instance\n",
    "from mingpt.model import GPT\n",
    "import os\n",
    "\n",
    "checkpoint_dir = 'red_pajama'\n",
    "dir_path = f'./checkpoints/{checkpoint_dir}'\n",
    "\n",
    "if not os.path.exists(dir_path):\n",
    "    # If the directory doesn't exist, create it\n",
    "    os.makedirs(dir_path)\n",
    "    checkpoints = os.listdir(dir_path)\n",
    "else:\n",
    "    checkpoints = os.listdir(dir_path)\n",
    "\n",
    "checkpoints.sort()\n",
    "\n",
    "\n",
    "\n",
    "model_config = GPT.get_default_config()\n",
    "model_config.model_type = 'gpt-nano'\n",
    "model_config.vocab_size = red_pajama_dataset.vocab_size\n",
    "model_config.block_size = red_pajama_dataset.max_length\n",
    "model_config.checkpoint = f'checkpoints/{checkpoint_dir}/' + checkpoints[-1] if checkpoints else None\n",
    "model = GPT(model_config)"
   ]
  },
  {
   "cell_type": "code",
   "execution_count": 9,
   "metadata": {},
   "outputs": [
    {
     "name": "stdout",
     "output_type": "stream",
     "text": [
      "running on device cpu\n"
     ]
    }
   ],
   "source": [
    "# create a Trainer object\n",
    "from mingpt.trainer import Trainer\n",
    "iters = 500\n",
    "\n",
    "train_config = Trainer.get_default_config()\n",
    "train_config.learning_rate = 5e-4 # the model we're using is so small that we can go a bit faster\n",
    "train_config.max_iters = iters + model.iter_num if model_config.checkpoint else iters  # This is a change\n",
    "train_config.num_workers = 0\n",
    "train_config.checkpoint_iters = 100     # This is a change\n",
    "train_config.batch_size = 1\n",
    "train_config.checkpoint_name = f'{checkpoint_dir}/checkpoint'  # This is a change.\n",
    "trainer = Trainer(train_config, model, red_pajama_dataset)"
   ]
  },
  {
   "cell_type": "code",
   "execution_count": 10,
   "metadata": {},
   "outputs": [
    {
     "name": "stdout",
     "output_type": "stream",
     "text": [
      "iter_dt 0.00ms; iter 0: train loss 10.83966\n",
      "iter_dt 56.91ms; iter 100: train loss 8.90698\n",
      "iter_dt 53.88ms; iter 200: train loss 7.68957\n",
      "iter_dt 220.33ms; iter 300: train loss 7.57169\n",
      "iter_dt 45.08ms; iter 400: train loss 9.09287\n"
     ]
    },
    {
     "data": {
      "image/png": "[encoded data removed]",
      "text/plain": [
       "<Figure size 640x480 with 1 Axes>"
      ]
     },
     "metadata": {},
     "output_type": "display_data"
    }
   ],
   "source": [
    "def batch_end_callback(trainer):\n",
    "    if trainer.iter_num % 100 == 0:\n",
    "        print(f\"iter_dt {trainer.iter_dt * 1000:.2f}ms; iter {trainer.iter_num}: train loss {trainer.loss.item():.5f}\")\n",
    "trainer.set_callback('on_batch_end', batch_end_callback)\n",
    "\n",
    "trainer.run()\n",
    "\n",
    "# Plot the loss\n",
    "plt.plot(trainer.iter_list, [a.detach() for a in trainer.saved_loss])\n",
    "plt.show()"
   ]
  },
  {
   "cell_type": "code",
   "execution_count": null,
   "metadata": {},
   "outputs": [],
   "source": [
    "\n",
    "def generate(prompt='', num_samples=10, steps=20, do_sample=True):\n",
    "        \n",
    "    # tokenize the input prompt into integer input sequence\n",
    "    tokenizer = GPT2Tokenizer.from_pretrained(model_type)\n",
    "    if prompt == '': \n",
    "        # to create unconditional samples...\n",
    "        # huggingface/transformers tokenizer special cases these strings\n",
    "        prompt = '<|endoftext|>'\n",
    "    encoded_input = tokenizer(prompt, return_tensors='pt').to(device)\n",
    "    x = encoded_input['input_ids']\n",
    "    \n",
    "    # we'll process all desired num_samples in a batch, so expand out the batch dim\n",
    "    x = x.expand(num_samples, -1)\n",
    "\n",
    "    # forward the model `steps` times to get samples, in a batch\n",
    "    y = model.generate(x, max_new_tokens=steps, do_sample=do_sample, top_k=40)\n",
    "    \n",
    "    for i in range(num_samples):\n",
    "        out = tokenizer.decode(y[i].cpu().squeeze())\n",
    "        print('-'*80)\n",
    "        print(out)\n",
    "        "
   ]
  },
  {
   "cell_type": "code",
   "execution_count": null,
   "metadata": {},
   "outputs": [
    {
     "name": "stdout",
     "output_type": "stream",
     "text": [
      "--------------------------------------------------------------------------------\n",
      "Dylan Skinner is the author of \"The Biggest Bad Boy in America\": A History of Black America at the University of\n",
      "--------------------------------------------------------------------------------\n",
      "Dylan Skinner is the President of Kratom Awareness Month, a national coalition of community health advocates and activists who call for more\n",
      "--------------------------------------------------------------------------------\n",
      "Dylan Skinner is the author of \"Dylan's War: What I Learned as a Boy a Slave\" and other books\n",
      "--------------------------------------------------------------------------------\n",
      "Dylan Skinner is the co-founder of the Internet Archive, and currently serves as a director at Creative Cloud Group.<|endoftext|>\n",
      "--------------------------------------------------------------------------------\n",
      "Dylan Skinner is the CEO of V.U.\n",
      "\n",
      "He recently shared a series of questions in which he spoke with\n",
      "--------------------------------------------------------------------------------\n",
      "Dylan Skinner is the latest to say that a similar law could be in place under the new law for the same reason he\n",
      "--------------------------------------------------------------------------------\n",
      "Dylan Skinner is the leader of the New Zealand branch of the U.S. Holocaust Memorial Museum.<|endoftext|>The government has\n",
      "--------------------------------------------------------------------------------\n",
      "Dylan Skinner is the former U.S. Secretary of State under George W. Bush, and the former U.S\n",
      "--------------------------------------------------------------------------------\n",
      "Dylan Skinner is the author of \"Losing Our Voices: My Story of Growing Up in the Democratic Party,\" which can\n",
      "--------------------------------------------------------------------------------\n",
      "Dylan Skinner is the chairman of the Senate committee on health, human services, public safety and public education. He is a\n"
     ]
    }
   ],
   "source": [
    "generate(prompt='Dylan Skinner is the', num_samples=10, steps=20)"
   ]
  }
 ],
 "metadata": {
  "kernelspec": {
   "display_name": "Python 3.10.4 64-bit",
   "language": "python",
   "name": "python3"
  },
  "language_info": {
   "codemirror_mode": {
    "name": "ipython",
    "version": 3
   },
   "file_extension": ".py",
   "mimetype": "text/x-python",
   "name": "python",
   "nbconvert_exporter": "python",
   "pygments_lexer": "ipython3",
   "version": "3.7.16"
  },
  "orig_nbformat": 4,
  "vscode": {
   "interpreter": {
    "hash": "3ad933181bd8a04b432d3370b9dc3b0662ad032c4dfaa4e4f1596c548f763858"
   }
  }
 },
 "nbformat": 4,
 "nbformat_minor": 2
}
